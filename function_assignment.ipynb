{
 "cells": [
  {
   "cell_type": "markdown",
   "id": "648580b1-25af-451a-963c-9cff9fb876dd",
   "metadata": {},
   "source": [
    "<h3 align=\"center\">Assignment<br>Function</h3> \n",
    "<h4>Q1.What is the differences between a function and a method in a Python?</h4>\n",
    "<h5>Ans.<u>Function</u>-: A function  is a block of code that performs a specific task and run only when it is called .<br>\n",
    "<ul type=\"square\"><li>No class is needed to define a function .</li><li>Not associated with any object</li><li>It is called by its name.</li><li>It does not depend on any class. I.e.. it is an  identical identity.</li><li>It does not require any self argument.</li><li>It operates on data that you pass to them as an argument.  </li></ul></h5><font color = \"blue\">Syntax-:</font><h5><font color=\"orange\">\n",
    "def</font>&nbspfunctionName():<br>&nbsp&nbsp&nbsp;function body<br>&nbsp&nbsp&nbsp;<font color=\"green\">return</font>&nbspvalues</h5>"
   ]
  },
  {
   "cell_type": "code",
   "execution_count": 3,
   "id": "587c82fc-e863-4c24-bfed-2743e3074225",
   "metadata": {},
   "outputs": [
    {
     "name": "stdout",
     "output_type": "stream",
     "text": [
      "sum of two number: 13\n"
     ]
    }
   ],
   "source": [
    "def sum(a,b):\n",
    "    return a+b\n",
    "n=sum(4,9)\n",
    "print(\"sum of two number:\",n)"
   ]
  },
  {
   "cell_type": "markdown",
   "id": "aace6732-4281-41da-9981-a4fabb98335c",
   "metadata": {},
   "source": [
    "## <u> Method</u>-:\n",
    "Python is an object-oriented Programming language ,so it contains objects and these objects have different properties and behaviour .Method in Python are used to define the behaviour of the python objects.\n",
    "* Method definitions are always present inside a class.\n",
    "* Associated with the class object.\n",
    "* It is called  an object.\n",
    "* It depends on the class they belong to.\n",
    "* It requires the self as its first argument.\n",
    "* It operates on the data of the object it associates with.  \r",
    "Example-:\n"
   ]
  },
  {
   "cell_type": "code",
   "execution_count": 30,
   "id": "27d43ecb-4851-4f29-80a5-fc0182fb2ae4",
   "metadata": {},
   "outputs": [
    {
     "name": "stdout",
     "output_type": "stream",
     "text": [
      "sum of two number : 11\n"
     ]
    }
   ],
   "source": [
    "class Calculation:\n",
    "      def sum(self, number1,number2):\n",
    "            print(\"sum of two number :\",number1+number2)\n",
    "object=Calculation()\n",
    "object.sum(5,6)\n"
   ]
  },
  {
   "cell_type": "markdown",
   "id": "15395d14-061b-4755-8305-b8103754315c",
   "metadata": {},
   "source": [
    "## Q2 Explain the concept of function arguments and parameters in python?\n",
    "<u>Function Argument</u> -:  An Argument in the value passed to a function when it’s called.  \n",
    "<u> Function Paramete</u>r-: Parameters are the variables used in the function definition\n",
    "\n",
    "### <font color=\"green\">Note:- Number of arguments and parameters should always be equal except for the variable length argument list.</font>  \n",
    "Example-:\r\n",
    " \r\n"
   ]
  },
  {
   "cell_type": "code",
   "execution_count": 36,
   "id": "d9f0d546-f02e-4ed2-b109-d2aa624c3fb5",
   "metadata": {},
   "outputs": [
    {
     "name": "stdout",
     "output_type": "stream",
     "text": [
      "Ajay\n"
     ]
    }
   ],
   "source": [
    " def employee(name):\n",
    "     print(name)\n",
    "employee(\"Ajay\")\n"
   ]
  },
  {
   "cell_type": "markdown",
   "id": "888fb2d6-0f9c-4d28-8ef7-45684f14dfe8",
   "metadata": {},
   "source": [
    "###  Types of function  arguments-:   \n",
    "1 Positional Argument-: if the respective argument are passed in order one after the other , those argument are called “Positional Argument”.  \n",
    "2 Keyword Argument-: If the arguments are passed by assigning them to their respective parameter in the function call with no significance to the passing order , they are called “Keyword argument”.  \n",
    "### <font color=\"green\">  Keyword Argument must always follow positional argument </font>  \n",
    "Example-:\n",
    "\r\n",
    "\r\n"
   ]
  },
  {
   "cell_type": "code",
   "execution_count": 44,
   "id": "f63d9eca-9205-4153-b804-095bad40329d",
   "metadata": {},
   "outputs": [
    {
     "name": "stdout",
     "output_type": "stream",
     "text": [
      "my name is  vaishnavi\n"
     ]
    }
   ],
   "source": [
    "def my(name):\n",
    "    print(\"my name is \",name)\n",
    "my(name=\"vaishnavi\")\n"
   ]
  },
  {
   "cell_type": "markdown",
   "id": "552ff1b0-764b-4b32-9674-935e2d0f2e5f",
   "metadata": {},
   "source": [
    "3.Default argument-: If we call the function without argument ,it uses the default value.  \r",
    " Example-:\r\n"
   ]
  },
  {
   "cell_type": "code",
   "execution_count": 47,
   "id": "fd47c572-aa61-4955-bbb4-0e92621c24f5",
   "metadata": {},
   "outputs": [
    {
     "data": {
      "text/plain": [
       "20"
      ]
     },
     "execution_count": 47,
     "metadata": {},
     "output_type": "execute_result"
    }
   ],
   "source": [
    "def mult(x ,y=5):\n",
    "    return x*y\n",
    "mult(4)\n"
   ]
  },
  {
   "cell_type": "markdown",
   "id": "8eff9557-967b-405b-b565-2a314868bfe1",
   "metadata": {},
   "source": [
    "4.Arbitrary keyword argument-:  If you do not know how many keyword arguments that will be passed into your function add two asterisk ** before   the parameter name in the function definition.  \n",
    "Example-: \n"
   ]
  },
  {
   "cell_type": "code",
   "execution_count": 57,
   "id": "7ed2662c-2202-4bbe-89d2-4e1e4ae6d019",
   "metadata": {},
   "outputs": [
    {
     "data": {
      "text/plain": [
       "{'first_name': 'vaishnavi ', 'last_name': 'gupta'}"
      ]
     },
     "execution_count": 57,
     "metadata": {},
     "output_type": "execute_result"
    }
   ],
   "source": [
    "def name(**name):\n",
    "    return name\n",
    "name(first_name =\"vaishnavi \",last_name = \"gupta\")\n",
    "\n"
   ]
  },
  {
   "cell_type": "code",
   "execution_count": null,
   "id": "cb64aad6-44ea-4d8d-9712-d3d31b61b57d",
   "metadata": {},
   "outputs": [],
   "source": []
  }
 ],
 "metadata": {
  "kernelspec": {
   "display_name": "Python 3 (ipykernel)",
   "language": "python",
   "name": "python3"
  },
  "language_info": {
   "codemirror_mode": {
    "name": "ipython",
    "version": 3
   },
   "file_extension": ".py",
   "mimetype": "text/x-python",
   "name": "python",
   "nbconvert_exporter": "python",
   "pygments_lexer": "ipython3",
   "version": "3.12.4"
  }
 },
 "nbformat": 4,
 "nbformat_minor": 5
}
